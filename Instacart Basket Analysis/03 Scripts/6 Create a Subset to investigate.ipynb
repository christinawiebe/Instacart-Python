{
 "cells": [
  {
   "cell_type": "markdown",
   "id": "eb51c04b",
   "metadata": {},
   "source": [
    "# 6 Create a subset to investigate"
   ]
  },
  {
   "cell_type": "markdown",
   "id": "b27186ab",
   "metadata": {},
   "source": [
    "### This script contains the following points\n",
    "#### 01 Import Libraries\n",
    "#### 02 Import Data\n",
    "#### 03 Create a Subset\n",
    "#### 04 Export Data"
   ]
  },
  {
   "cell_type": "markdown",
   "id": "35504c0f",
   "metadata": {},
   "source": [
    "# 01 Import Libraries"
   ]
  },
  {
   "cell_type": "code",
   "execution_count": 1,
   "id": "79dabbb2",
   "metadata": {},
   "outputs": [],
   "source": [
    "# Import Libraries\n",
    "\n",
    "import pandas as pd\n",
    "import numpy as np\n",
    "import os"
   ]
  },
  {
   "cell_type": "markdown",
   "id": "70053817",
   "metadata": {},
   "source": [
    "# 02 Import Data"
   ]
  },
  {
   "cell_type": "code",
   "execution_count": 2,
   "id": "46fe4dbd",
   "metadata": {},
   "outputs": [],
   "source": [
    "# Set a path\n",
    "\n",
    "path = r'D:\\Data'"
   ]
  },
  {
   "cell_type": "code",
   "execution_count": 3,
   "id": "a8a10cbc",
   "metadata": {},
   "outputs": [],
   "source": [
    "# Import \"ic_keep\"\n",
    "\n",
    "ic_keep = pd.read_pickle(os.path.join(path, 'ic_keep.pkl'))"
   ]
  },
  {
   "cell_type": "markdown",
   "id": "27e43af9",
   "metadata": {},
   "source": [
    "# 03 Create a subset"
   ]
  },
  {
   "cell_type": "code",
   "execution_count": 5,
   "id": "0a9ba781",
   "metadata": {},
   "outputs": [],
   "source": [
    "# Create a list holding True/False values to the test np.random.rand() <= 0.7\n",
    "\n",
    "dev = np.random.rand(len(ic_keep)) <= 0.7"
   ]
  },
  {
   "cell_type": "code",
   "execution_count": 6,
   "id": "3cdd6818",
   "metadata": {},
   "outputs": [],
   "source": [
    "# Store 30% of the sample in the dataframe small\n",
    "\n",
    "ic_small = ic_keep[~dev]"
   ]
  },
  {
   "cell_type": "code",
   "execution_count": 7,
   "id": "5057ff11",
   "metadata": {},
   "outputs": [],
   "source": [
    "# Delete not needed dataframe to save memory\n",
    "\n",
    "del ic_keep"
   ]
  },
  {
   "cell_type": "markdown",
   "id": "a651d8cc",
   "metadata": {},
   "source": [
    "# 04 Export Data"
   ]
  },
  {
   "cell_type": "code",
   "execution_count": 8,
   "id": "791c185e",
   "metadata": {},
   "outputs": [],
   "source": [
    "# Export \"ic_small\"\n",
    "\n",
    "ic_small.to_pickle(os.path.join(path, 'ic_small.pkl'))"
   ]
  }
 ],
 "metadata": {
  "kernelspec": {
   "display_name": "Python 3 (ipykernel)",
   "language": "python",
   "name": "python3"
  },
  "language_info": {
   "codemirror_mode": {
    "name": "ipython",
    "version": 3
   },
   "file_extension": ".py",
   "mimetype": "text/x-python",
   "name": "python",
   "nbconvert_exporter": "python",
   "pygments_lexer": "ipython3",
   "version": "3.11.5"
  }
 },
 "nbformat": 4,
 "nbformat_minor": 5
}
