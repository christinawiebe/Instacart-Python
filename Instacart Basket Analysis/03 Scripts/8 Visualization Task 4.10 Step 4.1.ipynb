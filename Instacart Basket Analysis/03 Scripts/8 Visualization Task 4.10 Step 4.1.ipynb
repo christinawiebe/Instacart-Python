{
 "cells": [
  {
   "cell_type": "markdown",
   "id": "d7a46bf9",
   "metadata": {},
   "source": [
    "# 8 Visualization Task 4.10 Step 4.1"
   ]
  },
  {
   "cell_type": "markdown",
   "id": "1ac54bd1",
   "metadata": {},
   "source": [
    "### This script contains the following points\n",
    "#### 01 Import Libraries\n",
    "#### 02 Import Data\n",
    "#### 03 Analysis\n",
    "#### 04 Export Data"
   ]
  },
  {
   "cell_type": "markdown",
   "id": "0ee14189",
   "metadata": {},
   "source": [
    "# 01 Import Libraries"
   ]
  },
  {
   "cell_type": "code",
   "execution_count": 1,
   "id": "151c1a41",
   "metadata": {},
   "outputs": [],
   "source": [
    "# Import Libraries\n",
    "\n",
    "import pandas as pd\n",
    "import numpy as np\n",
    "import os"
   ]
  },
  {
   "cell_type": "markdown",
   "id": "28fae5f6",
   "metadata": {},
   "source": [
    "# 02 Import Data"
   ]
  },
  {
   "cell_type": "code",
   "execution_count": 2,
   "id": "9fd86caa",
   "metadata": {},
   "outputs": [],
   "source": [
    "# Set a path\n",
    "\n",
    "path = r'C:\\Users\\Tina\\Desktop\\CareerFoundry\\Data Analytics Immersion\\Instacart Basket Analysis'"
   ]
  },
  {
   "cell_type": "code",
   "execution_count": 3,
   "id": "25df8f22",
   "metadata": {},
   "outputs": [],
   "source": [
    "# Import \"ic\"\n",
    "\n",
    "ic = pd.read_pickle(os.path.join(path, '02 Data', 'Prepared Data', 'ic.pkl'))"
   ]
  },
  {
   "cell_type": "markdown",
   "id": "f5653179",
   "metadata": {},
   "source": [
    "# 03 Analysis"
   ]
  },
  {
   "cell_type": "markdown",
   "id": "96e2b06d",
   "metadata": {},
   "source": [
    "### 4.Create an exclusion flag for low-activity customers (customers with less than 5 orders) and exclude them from the data."
   ]
  },
  {
   "cell_type": "code",
   "execution_count": 4,
   "id": "d0cf3308",
   "metadata": {},
   "outputs": [],
   "source": [
    "# Create a flag that assigns an \"exclusion label\" to a user ID\n",
    "\n",
    "ic.loc[ic['max_order'] < 5, 'exclusion_flag'] = 'exclude'\n",
    "ic.loc[ic['max_order'] >= 5, 'exclusion_flag'] = 'keep'"
   ]
  },
  {
   "cell_type": "code",
   "execution_count": 5,
   "id": "f342563b",
   "metadata": {},
   "outputs": [
    {
     "data": {
      "text/plain": [
       "exclusion_flag\n",
       "keep       30964564\n",
       "exclude     1440295\n",
       "Name: count, dtype: int64"
      ]
     },
     "execution_count": 5,
     "metadata": {},
     "output_type": "execute_result"
    }
   ],
   "source": [
    "# Check the exclusion frequency\n",
    "\n",
    "ic['exclusion_flag'].value_counts(dropna = False)"
   ]
  },
  {
   "cell_type": "markdown",
   "id": "6dfe652f",
   "metadata": {},
   "source": [
    "# 04 Export Data"
   ]
  },
  {
   "cell_type": "code",
   "execution_count": 6,
   "id": "420f4d65",
   "metadata": {},
   "outputs": [],
   "source": [
    "# Export the \"ic_4\" dataframe\n",
    "\n",
    "ic.to_pickle(os.path.join(path, '02 Data', 'Prepared Data', 'ic_4.pkl'))"
   ]
  }
 ],
 "metadata": {
  "kernelspec": {
   "display_name": "Python 3 (ipykernel)",
   "language": "python",
   "name": "python3"
  },
  "language_info": {
   "codemirror_mode": {
    "name": "ipython",
    "version": 3
   },
   "file_extension": ".py",
   "mimetype": "text/x-python",
   "name": "python",
   "nbconvert_exporter": "python",
   "pygments_lexer": "ipython3",
   "version": "3.11.5"
  }
 },
 "nbformat": 4,
 "nbformat_minor": 5
}
