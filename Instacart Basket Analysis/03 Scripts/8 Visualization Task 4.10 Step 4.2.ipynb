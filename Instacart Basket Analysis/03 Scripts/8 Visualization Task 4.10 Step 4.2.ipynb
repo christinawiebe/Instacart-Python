{
 "cells": [
  {
   "cell_type": "markdown",
   "id": "da6763ac",
   "metadata": {},
   "source": [
    "# 8 Visualization Task 4.10 Step 4.2"
   ]
  },
  {
   "cell_type": "markdown",
   "id": "01490b14",
   "metadata": {},
   "source": [
    "### This script contains the following points\n",
    "#### 01 Import Libraries\n",
    "#### 02 Import Data\n",
    "#### 03 Analysis\n",
    "#### 04 Export Data"
   ]
  },
  {
   "cell_type": "markdown",
   "id": "a22fa191",
   "metadata": {},
   "source": [
    "# 01 Import Libraries"
   ]
  },
  {
   "cell_type": "code",
   "execution_count": 1,
   "id": "6787d06d",
   "metadata": {},
   "outputs": [],
   "source": [
    "# Import Libraries\n",
    "\n",
    "import pandas as pd\n",
    "import numpy as np\n",
    "import os"
   ]
  },
  {
   "cell_type": "markdown",
   "id": "9a410c43",
   "metadata": {},
   "source": [
    "# 02 Import Data"
   ]
  },
  {
   "cell_type": "code",
   "execution_count": 2,
   "id": "90836c79",
   "metadata": {},
   "outputs": [],
   "source": [
    "# Set a path\n",
    "\n",
    "path = r'C:\\Users\\Tina\\Desktop\\CareerFoundry\\Data Analytics Immersion\\Instacart Basket Analysis'"
   ]
  },
  {
   "cell_type": "code",
   "execution_count": 3,
   "id": "dd0e0bca",
   "metadata": {},
   "outputs": [],
   "source": [
    "# Import \"ic_4\"\n",
    "\n",
    "ic = pd.read_pickle(os.path.join(path, '02 Data', 'Prepared Data', 'ic_4.pkl'))"
   ]
  },
  {
   "cell_type": "markdown",
   "id": "01063fed",
   "metadata": {},
   "source": [
    "# 03 Analysis"
   ]
  },
  {
   "cell_type": "code",
   "execution_count": 4,
   "id": "6359e141",
   "metadata": {},
   "outputs": [],
   "source": [
    "# Create a dataframe with only rows that are marked as \"keep\" in the \"exclusion_flag\"\n",
    "\n",
    "ic_keep = ic[ic['exclusion_flag'] == 'keep']"
   ]
  },
  {
   "cell_type": "code",
   "execution_count": 5,
   "id": "c4b5fe0d",
   "metadata": {},
   "outputs": [
    {
     "data": {
      "text/plain": [
       "exclusion_flag\n",
       "keep    30964564\n",
       "Name: count, dtype: int64"
      ]
     },
     "execution_count": 5,
     "metadata": {},
     "output_type": "execute_result"
    }
   ],
   "source": [
    "# Check the exclusion frequency for a successful exclusion\n",
    "\n",
    "ic_keep['exclusion_flag'].value_counts(dropna = False)"
   ]
  },
  {
   "cell_type": "code",
   "execution_count": 6,
   "id": "6f0c4de3",
   "metadata": {},
   "outputs": [],
   "source": [
    "# Delete the big dataframe to save memory\n",
    "\n",
    "del ic"
   ]
  },
  {
   "cell_type": "markdown",
   "id": "14a3f8f3",
   "metadata": {},
   "source": [
    "# 04 Export Data"
   ]
  },
  {
   "cell_type": "code",
   "execution_count": 8,
   "id": "a538b56c",
   "metadata": {},
   "outputs": [],
   "source": [
    "# Export the \"ic_keep\" dataframe\n",
    "\n",
    "ic_keep.to_pickle(r'D:\\Data\\ic_keep.pkl')"
   ]
  }
 ],
 "metadata": {
  "kernelspec": {
   "display_name": "Python 3 (ipykernel)",
   "language": "python",
   "name": "python3"
  },
  "language_info": {
   "codemirror_mode": {
    "name": "ipython",
    "version": 3
   },
   "file_extension": ".py",
   "mimetype": "text/x-python",
   "name": "python",
   "nbconvert_exporter": "python",
   "pygments_lexer": "ipython3",
   "version": "3.11.5"
  }
 },
 "nbformat": 4,
 "nbformat_minor": 5
}
