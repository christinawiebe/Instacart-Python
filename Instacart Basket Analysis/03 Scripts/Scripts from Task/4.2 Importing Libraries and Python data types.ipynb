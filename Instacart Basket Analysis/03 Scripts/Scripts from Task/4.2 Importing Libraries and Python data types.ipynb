{
 "cells": [
  {
   "cell_type": "markdown",
   "id": "b13f48a9",
   "metadata": {},
   "source": [
    "# Import Libraries"
   ]
  },
  {
   "cell_type": "code",
   "execution_count": 2,
   "id": "4ed81433",
   "metadata": {},
   "outputs": [],
   "source": [
    "# Import libraries\n",
    "import pandas as pd\n",
    "import numpy as np\n",
    "import os"
   ]
  },
  {
   "cell_type": "markdown",
   "id": "c45bb0ca",
   "metadata": {},
   "source": [
    "# Python data types"
   ]
  },
  {
   "cell_type": "code",
   "execution_count": 4,
   "id": "bd1c61be",
   "metadata": {},
   "outputs": [],
   "source": [
    "a = 10"
   ]
  },
  {
   "cell_type": "code",
   "execution_count": 5,
   "id": "d9618cbb",
   "metadata": {},
   "outputs": [],
   "source": [
    "b = 20"
   ]
  },
  {
   "cell_type": "code",
   "execution_count": 6,
   "id": "e93106ca",
   "metadata": {},
   "outputs": [],
   "source": [
    "c = 50"
   ]
  },
  {
   "cell_type": "code",
   "execution_count": 7,
   "id": "75c6afc6",
   "metadata": {},
   "outputs": [],
   "source": [
    "d = 70"
   ]
  },
  {
   "cell_type": "code",
   "execution_count": 8,
   "id": "e995e4ed",
   "metadata": {},
   "outputs": [
    {
     "data": {
      "text/plain": [
       "100"
      ]
     },
     "execution_count": 8,
     "metadata": {},
     "output_type": "execute_result"
    }
   ],
   "source": [
    "a + b + b + c"
   ]
  },
  {
   "cell_type": "code",
   "execution_count": 9,
   "id": "84f6794f",
   "metadata": {},
   "outputs": [
    {
     "data": {
      "text/plain": [
       "100"
      ]
     },
     "execution_count": 9,
     "metadata": {},
     "output_type": "execute_result"
    }
   ],
   "source": [
    "a + b + d"
   ]
  },
  {
   "cell_type": "code",
   "execution_count": 10,
   "id": "8f6bf998",
   "metadata": {},
   "outputs": [
    {
     "data": {
      "text/plain": [
       "100"
      ]
     },
     "execution_count": 10,
     "metadata": {},
     "output_type": "execute_result"
    }
   ],
   "source": [
    "d + c - b"
   ]
  },
  {
   "cell_type": "code",
   "execution_count": 11,
   "id": "566b7f6a",
   "metadata": {},
   "outputs": [],
   "source": [
    "e = 3.745"
   ]
  },
  {
   "cell_type": "code",
   "execution_count": 12,
   "id": "d97033bf",
   "metadata": {},
   "outputs": [],
   "source": [
    "f = 375.392"
   ]
  },
  {
   "cell_type": "code",
   "execution_count": 13,
   "id": "412d1271",
   "metadata": {},
   "outputs": [
    {
     "data": {
      "text/plain": [
       "100.23818424566088"
      ]
     },
     "execution_count": 13,
     "metadata": {},
     "output_type": "execute_result"
    }
   ],
   "source": [
    "f/e"
   ]
  },
  {
   "cell_type": "code",
   "execution_count": 14,
   "id": "331864ef",
   "metadata": {},
   "outputs": [],
   "source": [
    "g = 'choco'"
   ]
  },
  {
   "cell_type": "code",
   "execution_count": 15,
   "id": "f4f3529a",
   "metadata": {},
   "outputs": [],
   "source": [
    "h = 'late'"
   ]
  },
  {
   "cell_type": "code",
   "execution_count": 16,
   "id": "acc6fd97",
   "metadata": {},
   "outputs": [
    {
     "data": {
      "text/plain": [
       "'chocolate'"
      ]
     },
     "execution_count": 16,
     "metadata": {},
     "output_type": "execute_result"
    }
   ],
   "source": [
    "g + h"
   ]
  },
  {
   "cell_type": "code",
   "execution_count": 17,
   "id": "3ba0873b",
   "metadata": {},
   "outputs": [],
   "source": [
    "i = 'Hello, '"
   ]
  },
  {
   "cell_type": "code",
   "execution_count": 18,
   "id": "bd35697e",
   "metadata": {},
   "outputs": [],
   "source": [
    "j = 'World!'"
   ]
  },
  {
   "cell_type": "code",
   "execution_count": 19,
   "id": "6b527af9",
   "metadata": {},
   "outputs": [
    {
     "data": {
      "text/plain": [
       "'Hello, World!'"
      ]
     },
     "execution_count": 19,
     "metadata": {},
     "output_type": "execute_result"
    }
   ],
   "source": [
    "i + j"
   ]
  },
  {
   "cell_type": "code",
   "execution_count": 20,
   "id": "b8278b78",
   "metadata": {},
   "outputs": [],
   "source": [
    "k = 'No, '"
   ]
  },
  {
   "cell_type": "code",
   "execution_count": 21,
   "id": "eab9558a",
   "metadata": {},
   "outputs": [],
   "source": [
    "l = 'thanks!'"
   ]
  },
  {
   "cell_type": "code",
   "execution_count": 22,
   "id": "ff4216bd",
   "metadata": {},
   "outputs": [
    {
     "data": {
      "text/plain": [
       "'No, thanks!'"
      ]
     },
     "execution_count": 22,
     "metadata": {},
     "output_type": "execute_result"
    }
   ],
   "source": [
    "k + l"
   ]
  },
  {
   "cell_type": "code",
   "execution_count": 23,
   "id": "4c20f631",
   "metadata": {},
   "outputs": [],
   "source": [
    "m = 'chocolate'"
   ]
  },
  {
   "cell_type": "code",
   "execution_count": 24,
   "id": "a0070416",
   "metadata": {},
   "outputs": [
    {
     "data": {
      "text/plain": [
       "'chocolatechocolatechocolatechocolatechocolatechocolatechocolatechocolatechocolatechocolatechocolatechocolatechocolatechocolatechocolatechocolatechocolatechocolatechocolatechocolatechocolatechocolatechocolatechocolatechocolatechocolatechocolatechocolatechocolatechocolatechocolatechocolatechocolatechocolatechocolatechocolatechocolatechocolatechocolatechocolatechocolatechocolatechocolatechocolatechocolatechocolatechocolatechocolatechocolatechocolatechocolatechocolatechocolatechocolatechocolatechocolatechocolatechocolatechocolatechocolatechocolatechocolatechocolatechocolatechocolatechocolatechocolatechocolatechocolatechocolatechocolatechocolatechocolatechocolatechocolatechocolatechocolatechocolatechocolatechocolatechocolatechocolatechocolatechocolatechocolatechocolatechocolatechocolatechocolatechocolatechocolatechocolatechocolatechocolatechocolatechocolatechocolatechocolatechocolatechocolate'"
      ]
     },
     "execution_count": 24,
     "metadata": {},
     "output_type": "execute_result"
    }
   ],
   "source": [
    "m * 100"
   ]
  }
 ],
 "metadata": {
  "kernelspec": {
   "display_name": "Python 3 (ipykernel)",
   "language": "python",
   "name": "python3"
  },
  "language_info": {
   "codemirror_mode": {
    "name": "ipython",
    "version": 3
   },
   "file_extension": ".py",
   "mimetype": "text/x-python",
   "name": "python",
   "nbconvert_exporter": "python",
   "pygments_lexer": "ipython3",
   "version": "3.11.5"
  }
 },
 "nbformat": 4,
 "nbformat_minor": 5
}
