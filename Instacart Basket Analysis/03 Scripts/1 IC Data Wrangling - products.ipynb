{
 "cells": [
  {
   "cell_type": "markdown",
   "id": "d3466309",
   "metadata": {},
   "source": [
    "# 1 IC Data Wrangling - products"
   ]
  },
  {
   "cell_type": "markdown",
   "id": "87c3e6a4",
   "metadata": {},
   "source": [
    "### This script contains the following points\n",
    "#### 01 Import Libraries\n",
    "#### 02 Import Data\n",
    "#### 03 First Look at Data\n",
    "#### 04 Data Wrangling\n",
    "#### 05 Export Data"
   ]
  },
  {
   "cell_type": "markdown",
   "id": "65ab9615",
   "metadata": {},
   "source": [
    "# 01 Import Libraries"
   ]
  },
  {
   "cell_type": "code",
   "execution_count": 1,
   "id": "f5c6d43a",
   "metadata": {},
   "outputs": [],
   "source": [
    "# Import Libraries\n",
    "\n",
    "import pandas as pd\n",
    "import numpy as np\n",
    "import os"
   ]
  },
  {
   "cell_type": "markdown",
   "id": "687a8f5b",
   "metadata": {},
   "source": [
    "# 02 Import Data"
   ]
  },
  {
   "cell_type": "code",
   "execution_count": 2,
   "id": "4734c4e7",
   "metadata": {},
   "outputs": [],
   "source": [
    "# Set a path\n",
    "\n",
    "path = r'C:\\Users\\Tina\\Desktop\\CareerFoundry\\Data Analytics Immersion\\Instacart Basket Analysis'"
   ]
  },
  {
   "cell_type": "code",
   "execution_count": 3,
   "id": "4d13fb96",
   "metadata": {},
   "outputs": [],
   "source": [
    "# Import the \"products\" file\n",
    "\n",
    "prods = pd.read_csv(os.path.join(path, '02 Data', 'Original Data', 'products.csv'), index_col = False)"
   ]
  },
  {
   "cell_type": "markdown",
   "id": "eea62f6c",
   "metadata": {},
   "source": [
    "# 03 First Look at Data"
   ]
  },
  {
   "cell_type": "code",
   "execution_count": 4,
   "id": "d1afb280",
   "metadata": {},
   "outputs": [
    {
     "data": {
      "text/plain": [
       "(49693, 5)"
      ]
     },
     "execution_count": 4,
     "metadata": {},
     "output_type": "execute_result"
    }
   ],
   "source": [
    "# Shape of \"prods\"\n",
    "\n",
    "prods.shape"
   ]
  },
  {
   "cell_type": "code",
   "execution_count": 5,
   "id": "fb53b762",
   "metadata": {},
   "outputs": [
    {
     "data": {
      "text/html": [
       "<div>\n",
       "<style scoped>\n",
       "    .dataframe tbody tr th:only-of-type {\n",
       "        vertical-align: middle;\n",
       "    }\n",
       "\n",
       "    .dataframe tbody tr th {\n",
       "        vertical-align: top;\n",
       "    }\n",
       "\n",
       "    .dataframe thead th {\n",
       "        text-align: right;\n",
       "    }\n",
       "</style>\n",
       "<table border=\"1\" class=\"dataframe\">\n",
       "  <thead>\n",
       "    <tr style=\"text-align: right;\">\n",
       "      <th></th>\n",
       "      <th>product_id</th>\n",
       "      <th>product_name</th>\n",
       "      <th>aisle_id</th>\n",
       "      <th>department_id</th>\n",
       "      <th>prices</th>\n",
       "    </tr>\n",
       "  </thead>\n",
       "  <tbody>\n",
       "    <tr>\n",
       "      <th>0</th>\n",
       "      <td>1</td>\n",
       "      <td>Chocolate Sandwich Cookies</td>\n",
       "      <td>61</td>\n",
       "      <td>19</td>\n",
       "      <td>5.8</td>\n",
       "    </tr>\n",
       "    <tr>\n",
       "      <th>1</th>\n",
       "      <td>2</td>\n",
       "      <td>All-Seasons Salt</td>\n",
       "      <td>104</td>\n",
       "      <td>13</td>\n",
       "      <td>9.3</td>\n",
       "    </tr>\n",
       "    <tr>\n",
       "      <th>2</th>\n",
       "      <td>3</td>\n",
       "      <td>Robust Golden Unsweetened Oolong Tea</td>\n",
       "      <td>94</td>\n",
       "      <td>7</td>\n",
       "      <td>4.5</td>\n",
       "    </tr>\n",
       "    <tr>\n",
       "      <th>3</th>\n",
       "      <td>4</td>\n",
       "      <td>Smart Ones Classic Favorites Mini Rigatoni Wit...</td>\n",
       "      <td>38</td>\n",
       "      <td>1</td>\n",
       "      <td>10.5</td>\n",
       "    </tr>\n",
       "    <tr>\n",
       "      <th>4</th>\n",
       "      <td>5</td>\n",
       "      <td>Green Chile Anytime Sauce</td>\n",
       "      <td>5</td>\n",
       "      <td>13</td>\n",
       "      <td>4.3</td>\n",
       "    </tr>\n",
       "  </tbody>\n",
       "</table>\n",
       "</div>"
      ],
      "text/plain": [
       "   product_id                                       product_name  aisle_id  \\\n",
       "0           1                         Chocolate Sandwich Cookies        61   \n",
       "1           2                                   All-Seasons Salt       104   \n",
       "2           3               Robust Golden Unsweetened Oolong Tea        94   \n",
       "3           4  Smart Ones Classic Favorites Mini Rigatoni Wit...        38   \n",
       "4           5                          Green Chile Anytime Sauce         5   \n",
       "\n",
       "   department_id  prices  \n",
       "0             19     5.8  \n",
       "1             13     9.3  \n",
       "2              7     4.5  \n",
       "3              1    10.5  \n",
       "4             13     4.3  "
      ]
     },
     "execution_count": 5,
     "metadata": {},
     "output_type": "execute_result"
    }
   ],
   "source": [
    "# First few rows of \"prods\"\n",
    "\n",
    "prods.head()"
   ]
  },
  {
   "cell_type": "code",
   "execution_count": 6,
   "id": "2b56205f",
   "metadata": {},
   "outputs": [
    {
     "data": {
      "text/plain": [
       "product_id         int64\n",
       "product_name      object\n",
       "aisle_id           int64\n",
       "department_id      int64\n",
       "prices           float64\n",
       "dtype: object"
      ]
     },
     "execution_count": 6,
     "metadata": {},
     "output_type": "execute_result"
    }
   ],
   "source": [
    "# Data types of \"prods\"\n",
    "\n",
    "prods.dtypes"
   ]
  },
  {
   "cell_type": "markdown",
   "id": "a0f8c165",
   "metadata": {},
   "source": [
    "# 04 Data Wrangling"
   ]
  },
  {
   "cell_type": "markdown",
   "id": "e8c85946",
   "metadata": {},
   "source": [
    "### 01 Drop Columns"
   ]
  },
  {
   "cell_type": "markdown",
   "id": "32675c03",
   "metadata": {},
   "source": [
    "No columns are being dropped for this dataframe."
   ]
  },
  {
   "cell_type": "markdown",
   "id": "ad11ce2b",
   "metadata": {},
   "source": [
    "### 02  Rename Columns"
   ]
  },
  {
   "cell_type": "markdown",
   "id": "7cbc8dd1",
   "metadata": {},
   "source": [
    "No columns are being renamed for this dataframe."
   ]
  },
  {
   "cell_type": "markdown",
   "id": "9257c17f",
   "metadata": {},
   "source": [
    "### 03 Change Data Types"
   ]
  },
  {
   "cell_type": "markdown",
   "id": "ad2801bd",
   "metadata": {},
   "source": [
    "No data types are being changed for this dataframe."
   ]
  },
  {
   "cell_type": "markdown",
   "id": "3a564b17",
   "metadata": {},
   "source": [
    "# 05 Export Data"
   ]
  },
  {
   "cell_type": "code",
   "execution_count": 7,
   "id": "450a3c32",
   "metadata": {},
   "outputs": [],
   "source": [
    "# Export the \"prods\" dataframe\n",
    "\n",
    "prods.to_csv(os.path.join(path, '02 Data', 'Prepared Data', 'wrangled_products.csv'))"
   ]
  }
 ],
 "metadata": {
  "kernelspec": {
   "display_name": "Python 3 (ipykernel)",
   "language": "python",
   "name": "python3"
  },
  "language_info": {
   "codemirror_mode": {
    "name": "ipython",
    "version": 3
   },
   "file_extension": ".py",
   "mimetype": "text/x-python",
   "name": "python",
   "nbconvert_exporter": "python",
   "pygments_lexer": "ipython3",
   "version": "3.11.5"
  }
 },
 "nbformat": 4,
 "nbformat_minor": 5
}
