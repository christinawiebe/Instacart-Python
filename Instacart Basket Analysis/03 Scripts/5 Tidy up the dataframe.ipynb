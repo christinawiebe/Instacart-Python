{
 "cells": [
  {
   "cell_type": "markdown",
   "id": "cc92190c",
   "metadata": {},
   "source": [
    "# 5 Tidy up the dataframe"
   ]
  },
  {
   "cell_type": "markdown",
   "id": "2f5a53dc",
   "metadata": {},
   "source": [
    "### This script contains the following points\n",
    "#### 01 Import Libraries\n",
    "#### 02 Import Data\n",
    "#### 03 First Look at Data\n",
    "#### 04 Drop Columns\n",
    "#### 05 Export Data"
   ]
  },
  {
   "cell_type": "markdown",
   "id": "0f171195",
   "metadata": {},
   "source": [
    "# 01 Import Libraries"
   ]
  },
  {
   "cell_type": "code",
   "execution_count": 1,
   "id": "9763c1b6",
   "metadata": {},
   "outputs": [],
   "source": [
    "# Import Libraries\n",
    "\n",
    "import pandas as pd\n",
    "import numpy as np\n",
    "import os"
   ]
  },
  {
   "cell_type": "markdown",
   "id": "66c544b7",
   "metadata": {},
   "source": [
    "# 02 Import Data"
   ]
  },
  {
   "cell_type": "code",
   "execution_count": 2,
   "id": "2bfd7aa0",
   "metadata": {},
   "outputs": [],
   "source": [
    "# Set a path\n",
    "\n",
    "path = r'D:\\Data'"
   ]
  },
  {
   "cell_type": "code",
   "execution_count": 3,
   "id": "807864a9",
   "metadata": {},
   "outputs": [],
   "source": [
    "# Import \"ic_keep\"\n",
    "\n",
    "ic_keep = pd.read_pickle(os.path.join(path, 'ic_keep.pkl'))"
   ]
  },
  {
   "cell_type": "markdown",
   "id": "63dacc45",
   "metadata": {},
   "source": [
    "# First Look at Data"
   ]
  },
  {
   "cell_type": "code",
   "execution_count": 4,
   "id": "f27a8d16",
   "metadata": {},
   "outputs": [
    {
     "data": {
      "text/plain": [
       "user_id                     int32\n",
       "gender                     object\n",
       "state                      object\n",
       "age                          int8\n",
       "n_dependants                 int8\n",
       "fam_status                 object\n",
       "income                      int64\n",
       "product_id                  int32\n",
       "product_name               object\n",
       "aisle_id                     int8\n",
       "department_id                int8\n",
       "prices                    float64\n",
       "order_id                    int32\n",
       "order_number                 int8\n",
       "orders_day_of_week           int8\n",
       "order_hour_of_day            int8\n",
       "days_since_prior_order    float64\n",
       "add_to_cart_order           int32\n",
       "reordered                    int8\n",
       "price_range_flag           object\n",
       "busiest_day_flag           object\n",
       "busiest_period_flag        object\n",
       "max_order                    int8\n",
       "loyalty_flag               object\n",
       "spending_flag              object\n",
       "frequency_flag             object\n",
       "region                     object\n",
       "exclusion_flag             object\n",
       "dtype: object"
      ]
     },
     "execution_count": 4,
     "metadata": {},
     "output_type": "execute_result"
    }
   ],
   "source": [
    "# Row names of \"ic_keep\"\n",
    "\n",
    "ic_keep.dtypes"
   ]
  },
  {
   "cell_type": "markdown",
   "id": "94618cd7",
   "metadata": {},
   "source": [
    "# Drop Columns"
   ]
  },
  {
   "cell_type": "code",
   "execution_count": 5,
   "id": "68c05ee3",
   "metadata": {},
   "outputs": [],
   "source": [
    "# Drop unnecessary columns\n",
    "\n",
    "ic_keep = ic_keep.drop(columns = ['user_id', 'gender', 'product_id', 'product_name', 'aisle_id', 'add_to_cart_order', 'reordered', 'price_range_flag', 'busiest_day_flag', 'busiest_period_flag', 'exclusion_flag'])"
   ]
  },
  {
   "cell_type": "code",
   "execution_count": 6,
   "id": "c47f296d",
   "metadata": {},
   "outputs": [
    {
     "data": {
      "text/plain": [
       "state                      object\n",
       "age                          int8\n",
       "n_dependants                 int8\n",
       "fam_status                 object\n",
       "income                      int64\n",
       "department_id                int8\n",
       "prices                    float64\n",
       "order_id                    int32\n",
       "order_number                 int8\n",
       "orders_day_of_week           int8\n",
       "order_hour_of_day            int8\n",
       "days_since_prior_order    float64\n",
       "max_order                    int8\n",
       "loyalty_flag               object\n",
       "spending_flag              object\n",
       "frequency_flag             object\n",
       "region                     object\n",
       "dtype: object"
      ]
     },
     "execution_count": 6,
     "metadata": {},
     "output_type": "execute_result"
    }
   ],
   "source": [
    "# Check remaining columns of \"ic_keep\"\n",
    "\n",
    "ic_keep.dtypes"
   ]
  },
  {
   "cell_type": "markdown",
   "id": "66152c6d",
   "metadata": {},
   "source": [
    "# Export Data"
   ]
  },
  {
   "cell_type": "code",
   "execution_count": 7,
   "id": "92a4b274",
   "metadata": {},
   "outputs": [],
   "source": [
    "# Export \"ic_keep\"\n",
    "\n",
    "ic_keep.to_pickle(os.path.join(path, 'ic_tidy.pkl'))"
   ]
  }
 ],
 "metadata": {
  "kernelspec": {
   "display_name": "Python 3 (ipykernel)",
   "language": "python",
   "name": "python3"
  },
  "language_info": {
   "codemirror_mode": {
    "name": "ipython",
    "version": 3
   },
   "file_extension": ".py",
   "mimetype": "text/x-python",
   "name": "python",
   "nbconvert_exporter": "python",
   "pygments_lexer": "ipython3",
   "version": "3.11.5"
  }
 },
 "nbformat": 4,
 "nbformat_minor": 5
}
