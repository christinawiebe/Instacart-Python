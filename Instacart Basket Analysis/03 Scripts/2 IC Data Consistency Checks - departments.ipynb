{
 "cells": [
  {
   "cell_type": "markdown",
   "id": "53163e46",
   "metadata": {},
   "source": [
    "# 2 IC Data Consistency Checks - departments"
   ]
  },
  {
   "cell_type": "markdown",
   "id": "745cbb9f",
   "metadata": {},
   "source": [
    "### This script contains the following points\n",
    "#### 01 Import Libraries\n",
    "#### 02 Import Data\n",
    "#### 03 First Look at Data\n",
    "#### 04 Consistency Checks\n",
    "#### 05 Export Data"
   ]
  },
  {
   "cell_type": "markdown",
   "id": "a4d39987",
   "metadata": {},
   "source": [
    "# 01 Import Libraries"
   ]
  },
  {
   "cell_type": "code",
   "execution_count": 1,
   "id": "83fcf3f2",
   "metadata": {},
   "outputs": [],
   "source": [
    "# Import Libraries\n",
    "\n",
    "import pandas as pd\n",
    "import numpy as np\n",
    "import os"
   ]
  },
  {
   "cell_type": "markdown",
   "id": "f87872f4",
   "metadata": {},
   "source": [
    "# 02 Import Data"
   ]
  },
  {
   "cell_type": "code",
   "execution_count": 2,
   "id": "5d24ce84",
   "metadata": {},
   "outputs": [],
   "source": [
    "# Set the data path\n",
    "\n",
    "path = r'C:\\Users\\Tina\\Desktop\\CareerFoundry\\Data Analytics Immersion\\Instacart Basket Analysis'"
   ]
  },
  {
   "cell_type": "code",
   "execution_count": 8,
   "id": "a2a717ec",
   "metadata": {},
   "outputs": [],
   "source": [
    "# Import the \"wrangled_departments\" file\n",
    "\n",
    "deps_wr = pd.read_csv(os.path.join(path, '02 Data', 'Prepared Data', 'wrangled_departments.csv'), index_col = False)"
   ]
  },
  {
   "cell_type": "markdown",
   "id": "d7723291",
   "metadata": {},
   "source": [
    "# 03 First Look at Data"
   ]
  },
  {
   "cell_type": "code",
   "execution_count": 9,
   "id": "700a94a4",
   "metadata": {},
   "outputs": [
    {
     "data": {
      "text/plain": [
       "(21, 2)"
      ]
     },
     "execution_count": 9,
     "metadata": {},
     "output_type": "execute_result"
    }
   ],
   "source": [
    "# Shape of \"deps_wr\"\n",
    "\n",
    "deps_wr.shape"
   ]
  },
  {
   "cell_type": "code",
   "execution_count": 10,
   "id": "2ba7c6a4",
   "metadata": {},
   "outputs": [
    {
     "data": {
      "text/html": [
       "<div>\n",
       "<style scoped>\n",
       "    .dataframe tbody tr th:only-of-type {\n",
       "        vertical-align: middle;\n",
       "    }\n",
       "\n",
       "    .dataframe tbody tr th {\n",
       "        vertical-align: top;\n",
       "    }\n",
       "\n",
       "    .dataframe thead th {\n",
       "        text-align: right;\n",
       "    }\n",
       "</style>\n",
       "<table border=\"1\" class=\"dataframe\">\n",
       "  <thead>\n",
       "    <tr style=\"text-align: right;\">\n",
       "      <th></th>\n",
       "      <th>Unnamed: 0</th>\n",
       "      <th>department</th>\n",
       "    </tr>\n",
       "  </thead>\n",
       "  <tbody>\n",
       "    <tr>\n",
       "      <th>0</th>\n",
       "      <td>1</td>\n",
       "      <td>frozen</td>\n",
       "    </tr>\n",
       "    <tr>\n",
       "      <th>1</th>\n",
       "      <td>2</td>\n",
       "      <td>other</td>\n",
       "    </tr>\n",
       "    <tr>\n",
       "      <th>2</th>\n",
       "      <td>3</td>\n",
       "      <td>bakery</td>\n",
       "    </tr>\n",
       "    <tr>\n",
       "      <th>3</th>\n",
       "      <td>4</td>\n",
       "      <td>produce</td>\n",
       "    </tr>\n",
       "    <tr>\n",
       "      <th>4</th>\n",
       "      <td>5</td>\n",
       "      <td>alcohol</td>\n",
       "    </tr>\n",
       "  </tbody>\n",
       "</table>\n",
       "</div>"
      ],
      "text/plain": [
       "   Unnamed: 0 department\n",
       "0           1     frozen\n",
       "1           2      other\n",
       "2           3     bakery\n",
       "3           4    produce\n",
       "4           5    alcohol"
      ]
     },
     "execution_count": 10,
     "metadata": {},
     "output_type": "execute_result"
    }
   ],
   "source": [
    "# First few rows of \"deps_wr\"\n",
    "\n",
    "deps_wr.head()"
   ]
  },
  {
   "cell_type": "code",
   "execution_count": 11,
   "id": "20c7746c",
   "metadata": {},
   "outputs": [],
   "source": [
    "# Rename \"Unnamed: 0\" to \"department_id\"\n",
    "\n",
    "deps_wr.rename(columns = {'Unnamed: 0' : 'department_id'}, inplace = True)"
   ]
  },
  {
   "cell_type": "code",
   "execution_count": 12,
   "id": "18a3a451",
   "metadata": {},
   "outputs": [
    {
     "data": {
      "text/html": [
       "<div>\n",
       "<style scoped>\n",
       "    .dataframe tbody tr th:only-of-type {\n",
       "        vertical-align: middle;\n",
       "    }\n",
       "\n",
       "    .dataframe tbody tr th {\n",
       "        vertical-align: top;\n",
       "    }\n",
       "\n",
       "    .dataframe thead th {\n",
       "        text-align: right;\n",
       "    }\n",
       "</style>\n",
       "<table border=\"1\" class=\"dataframe\">\n",
       "  <thead>\n",
       "    <tr style=\"text-align: right;\">\n",
       "      <th></th>\n",
       "      <th>department_id</th>\n",
       "      <th>department</th>\n",
       "    </tr>\n",
       "  </thead>\n",
       "  <tbody>\n",
       "    <tr>\n",
       "      <th>0</th>\n",
       "      <td>1</td>\n",
       "      <td>frozen</td>\n",
       "    </tr>\n",
       "    <tr>\n",
       "      <th>1</th>\n",
       "      <td>2</td>\n",
       "      <td>other</td>\n",
       "    </tr>\n",
       "    <tr>\n",
       "      <th>2</th>\n",
       "      <td>3</td>\n",
       "      <td>bakery</td>\n",
       "    </tr>\n",
       "    <tr>\n",
       "      <th>3</th>\n",
       "      <td>4</td>\n",
       "      <td>produce</td>\n",
       "    </tr>\n",
       "    <tr>\n",
       "      <th>4</th>\n",
       "      <td>5</td>\n",
       "      <td>alcohol</td>\n",
       "    </tr>\n",
       "  </tbody>\n",
       "</table>\n",
       "</div>"
      ],
      "text/plain": [
       "   department_id department\n",
       "0              1     frozen\n",
       "1              2      other\n",
       "2              3     bakery\n",
       "3              4    produce\n",
       "4              5    alcohol"
      ]
     },
     "execution_count": 12,
     "metadata": {},
     "output_type": "execute_result"
    }
   ],
   "source": [
    "deps_wr.head()"
   ]
  },
  {
   "cell_type": "code",
   "execution_count": 13,
   "id": "d62eb939",
   "metadata": {},
   "outputs": [
    {
     "data": {
      "text/plain": [
       "department_id     int64\n",
       "department       object\n",
       "dtype: object"
      ]
     },
     "execution_count": 13,
     "metadata": {},
     "output_type": "execute_result"
    }
   ],
   "source": [
    "# Data types of \"deps_wr\"\n",
    "\n",
    "deps_wr.dtypes"
   ]
  },
  {
   "cell_type": "markdown",
   "id": "393da269",
   "metadata": {},
   "source": [
    "# 04 Consistency Checks"
   ]
  },
  {
   "cell_type": "code",
   "execution_count": 14,
   "id": "4b32e28c",
   "metadata": {},
   "outputs": [
    {
     "data": {
      "text/html": [
       "<div>\n",
       "<style scoped>\n",
       "    .dataframe tbody tr th:only-of-type {\n",
       "        vertical-align: middle;\n",
       "    }\n",
       "\n",
       "    .dataframe tbody tr th {\n",
       "        vertical-align: top;\n",
       "    }\n",
       "\n",
       "    .dataframe thead th {\n",
       "        text-align: right;\n",
       "    }\n",
       "</style>\n",
       "<table border=\"1\" class=\"dataframe\">\n",
       "  <thead>\n",
       "    <tr style=\"text-align: right;\">\n",
       "      <th></th>\n",
       "      <th>department_id</th>\n",
       "    </tr>\n",
       "  </thead>\n",
       "  <tbody>\n",
       "    <tr>\n",
       "      <th>count</th>\n",
       "      <td>21.000000</td>\n",
       "    </tr>\n",
       "    <tr>\n",
       "      <th>mean</th>\n",
       "      <td>11.000000</td>\n",
       "    </tr>\n",
       "    <tr>\n",
       "      <th>std</th>\n",
       "      <td>6.204837</td>\n",
       "    </tr>\n",
       "    <tr>\n",
       "      <th>min</th>\n",
       "      <td>1.000000</td>\n",
       "    </tr>\n",
       "    <tr>\n",
       "      <th>25%</th>\n",
       "      <td>6.000000</td>\n",
       "    </tr>\n",
       "    <tr>\n",
       "      <th>50%</th>\n",
       "      <td>11.000000</td>\n",
       "    </tr>\n",
       "    <tr>\n",
       "      <th>75%</th>\n",
       "      <td>16.000000</td>\n",
       "    </tr>\n",
       "    <tr>\n",
       "      <th>max</th>\n",
       "      <td>21.000000</td>\n",
       "    </tr>\n",
       "  </tbody>\n",
       "</table>\n",
       "</div>"
      ],
      "text/plain": [
       "       department_id\n",
       "count      21.000000\n",
       "mean       11.000000\n",
       "std         6.204837\n",
       "min         1.000000\n",
       "25%         6.000000\n",
       "50%        11.000000\n",
       "75%        16.000000\n",
       "max        21.000000"
      ]
     },
     "execution_count": 14,
     "metadata": {},
     "output_type": "execute_result"
    }
   ],
   "source": [
    "# Descriptive statistics of \"deps_wr\"\n",
    "\n",
    "deps_wr.describe()"
   ]
  },
  {
   "cell_type": "markdown",
   "id": "039235db",
   "metadata": {},
   "source": [
    "No obvious problems were detected."
   ]
  },
  {
   "cell_type": "markdown",
   "id": "d8665207",
   "metadata": {},
   "source": [
    "### 01 Mixed-Type Data"
   ]
  },
  {
   "cell_type": "code",
   "execution_count": 15,
   "id": "f5f951ba",
   "metadata": {},
   "outputs": [],
   "source": [
    "# Check for mixed-type data\n",
    "\n",
    "for col in deps_wr.columns.tolist():\n",
    "    weird = (deps_wr[[col]].map(type) != deps_wr[[col]].iloc[0].apply(type)).any(axis = 1)\n",
    "    if len (deps_wr[weird]) > 0:\n",
    "        print (col)"
   ]
  },
  {
   "cell_type": "markdown",
   "id": "2f1392a9",
   "metadata": {},
   "source": [
    "No mixed-type data could be found."
   ]
  },
  {
   "cell_type": "markdown",
   "id": "2330b858",
   "metadata": {},
   "source": [
    "### 02 Missing Values"
   ]
  },
  {
   "cell_type": "code",
   "execution_count": 16,
   "id": "b57460b6",
   "metadata": {},
   "outputs": [
    {
     "data": {
      "text/plain": [
       "department_id    0\n",
       "department       0\n",
       "dtype: int64"
      ]
     },
     "execution_count": 16,
     "metadata": {},
     "output_type": "execute_result"
    }
   ],
   "source": [
    "# Check for missing values in \"deps_wr\"\n",
    "\n",
    "deps_wr.isnull().sum()"
   ]
  },
  {
   "cell_type": "markdown",
   "id": "8abbb02b",
   "metadata": {},
   "source": [
    "No missing values could be found."
   ]
  },
  {
   "cell_type": "markdown",
   "id": "aaf26311",
   "metadata": {},
   "source": [
    "### 03 Duplicate Data"
   ]
  },
  {
   "cell_type": "code",
   "execution_count": 18,
   "id": "eb309198",
   "metadata": {},
   "outputs": [],
   "source": [
    "# Create a new subset with only duplicates\n",
    "\n",
    "deps_wr_dups = deps_wr[deps_wr.duplicated()]"
   ]
  },
  {
   "cell_type": "code",
   "execution_count": 19,
   "id": "8a9877ed",
   "metadata": {},
   "outputs": [
    {
     "data": {
      "text/html": [
       "<div>\n",
       "<style scoped>\n",
       "    .dataframe tbody tr th:only-of-type {\n",
       "        vertical-align: middle;\n",
       "    }\n",
       "\n",
       "    .dataframe tbody tr th {\n",
       "        vertical-align: top;\n",
       "    }\n",
       "\n",
       "    .dataframe thead th {\n",
       "        text-align: right;\n",
       "    }\n",
       "</style>\n",
       "<table border=\"1\" class=\"dataframe\">\n",
       "  <thead>\n",
       "    <tr style=\"text-align: right;\">\n",
       "      <th></th>\n",
       "      <th>department_id</th>\n",
       "      <th>department</th>\n",
       "    </tr>\n",
       "  </thead>\n",
       "  <tbody>\n",
       "  </tbody>\n",
       "</table>\n",
       "</div>"
      ],
      "text/plain": [
       "Empty DataFrame\n",
       "Columns: [department_id, department]\n",
       "Index: []"
      ]
     },
     "execution_count": 19,
     "metadata": {},
     "output_type": "execute_result"
    }
   ],
   "source": [
    "deps_wr_dups"
   ]
  },
  {
   "cell_type": "markdown",
   "id": "53fe55c4",
   "metadata": {},
   "source": [
    "There is no duplicate data in this data set."
   ]
  },
  {
   "cell_type": "code",
   "execution_count": 20,
   "id": "c5b3bedf",
   "metadata": {},
   "outputs": [
    {
     "data": {
      "text/plain": [
       "(21, 2)"
      ]
     },
     "execution_count": 20,
     "metadata": {},
     "output_type": "execute_result"
    }
   ],
   "source": [
    "# Number of rows after consistency check\n",
    "\n",
    "deps_wr.shape"
   ]
  },
  {
   "cell_type": "markdown",
   "id": "dd8a2da5",
   "metadata": {},
   "source": [
    "# 05 Export Data"
   ]
  },
  {
   "cell_type": "code",
   "execution_count": 21,
   "id": "16836ccd",
   "metadata": {},
   "outputs": [],
   "source": [
    "# Export \"deps_wr\"\n",
    "\n",
    "deps_wr.to_csv(os.path.join(path, '02 Data', 'Prepared Data', 'checked_departments.csv'))"
   ]
  }
 ],
 "metadata": {
  "kernelspec": {
   "display_name": "Python 3 (ipykernel)",
   "language": "python",
   "name": "python3"
  },
  "language_info": {
   "codemirror_mode": {
    "name": "ipython",
    "version": 3
   },
   "file_extension": ".py",
   "mimetype": "text/x-python",
   "name": "python",
   "nbconvert_exporter": "python",
   "pygments_lexer": "ipython3",
   "version": "3.11.5"
  }
 },
 "nbformat": 4,
 "nbformat_minor": 5
}
